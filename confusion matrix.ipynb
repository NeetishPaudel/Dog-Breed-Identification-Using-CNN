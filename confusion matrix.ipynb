{
 "cells": [
  {
   "cell_type": "code",
   "execution_count": null,
   "id": "a44b8d76",
   "metadata": {},
   "outputs": [],
   "source": [
    "y_pred = model.predict(x_test1)\n",
    "\n",
    "# convert one-hot encoded labels to integer labels\n",
    "y_true = np.argmax(y_test, axis=1)\n",
    "\n",
    "# select 10 breeds to show in confusion matrix\n",
    "selected_breeds = ['Chihuahua', 'Japanese_spaniel', 'Maltese_dog', 'Pekinese', 'Shih-Tzu', 'Blenheim_spaniel', 'papillon', 'toy_terrier', 'Rhodesian_ridgeback', 'Afghan_hound']\n",
    "\n",
    "# filter actual and predicted labels for selected breeds\n",
    "# filter actual and predicted labels for selected breeds\n",
    "selected_indices = np.isin(y_true, np.arange(len(selected_breeds)))\n",
    "y_true_selected = y_true[selected_indices]\n",
    "y_pred_selected = np.argmax(y_pred[selected_indices], axis=1)\n",
    "\n",
    "# create confusion matrix for selected breeds only\n",
    "conf_matrix = confusion_matrix(y_true_selected, y_pred_selected, labels=np.arange(len(selected_breeds)))\n",
    "\n",
    "# create dataframe for confusion matrix\n",
    "conf_df = pd.DataFrame(conf_matrix, index=selected_breeds, columns=selected_breeds)\n",
    "\n",
    "# plot confusion matrix\n",
    "plt.figure(figsize=(8, 8))\n",
    "plt.imshow(conf_df, cmap='Blues', interpolation='nearest')\n",
    "plt.colorbar()\n",
    "tick_marks = np.arange(len(selected_breeds))\n",
    "plt.xticks(tick_marks, selected_breeds, rotation=90)\n",
    "plt.yticks(tick_marks, selected_breeds)\n",
    "plt.xlabel('Predicted Breed')\n",
    "plt.ylabel('Actual Breed')\n",
    "plt.show()"
   ]
  }
 ],
 "metadata": {
  "kernelspec": {
   "display_name": "Python 3 (ipykernel)",
   "language": "python",
   "name": "python3"
  },
  "language_info": {
   "codemirror_mode": {
    "name": "ipython",
    "version": 3
   },
   "file_extension": ".py",
   "mimetype": "text/x-python",
   "name": "python",
   "nbconvert_exporter": "python",
   "pygments_lexer": "ipython3",
   "version": "3.10.5"
  }
 },
 "nbformat": 4,
 "nbformat_minor": 5
}
